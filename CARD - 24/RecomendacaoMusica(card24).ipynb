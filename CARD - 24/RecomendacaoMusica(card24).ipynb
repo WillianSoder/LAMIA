{
 "cells": [
  {
   "cell_type": "markdown",
   "metadata": {},
   "source": [
    "### sistema de recomendação de músicas usando filtragem colaborativa baseada em itens"
   ]
  },
  {
   "cell_type": "code",
   "execution_count": 39,
   "metadata": {},
   "outputs": [],
   "source": [
    "import pandas as pd\n",
    "\n",
    "# criando os dados\n",
    "data = {\n",
    "    'Usuario': ['Usuário 1', 'Usuário 1', 'Usuário 1', 'Usuário 2', 'Usuário 2', 'Usuário 3', 'Usuário 3', 'Usuário 4', 'Usuário 4', 'Usuário 4'],\n",
    "    'Musica': ['Música A', 'Música B', 'Música C', 'Música A', 'Música C', 'Música B', 'Música C', 'Música A', 'Música B', 'Música D'],\n",
    "    'Avaliacao': [5, 3, 4, 4, 5, 2, 3, 5, 4, 1]\n",
    "}"
   ]
  },
  {
   "cell_type": "code",
   "execution_count": 40,
   "metadata": {},
   "outputs": [
    {
     "data": {
      "text/html": [
       "<div>\n",
       "<style scoped>\n",
       "    .dataframe tbody tr th:only-of-type {\n",
       "        vertical-align: middle;\n",
       "    }\n",
       "\n",
       "    .dataframe tbody tr th {\n",
       "        vertical-align: top;\n",
       "    }\n",
       "\n",
       "    .dataframe thead th {\n",
       "        text-align: right;\n",
       "    }\n",
       "</style>\n",
       "<table border=\"1\" class=\"dataframe\">\n",
       "  <thead>\n",
       "    <tr style=\"text-align: right;\">\n",
       "      <th></th>\n",
       "      <th>Usuario</th>\n",
       "      <th>Musica</th>\n",
       "      <th>Avaliacao</th>\n",
       "    </tr>\n",
       "  </thead>\n",
       "  <tbody>\n",
       "    <tr>\n",
       "      <th>0</th>\n",
       "      <td>Usuário 1</td>\n",
       "      <td>Música A</td>\n",
       "      <td>5</td>\n",
       "    </tr>\n",
       "    <tr>\n",
       "      <th>1</th>\n",
       "      <td>Usuário 1</td>\n",
       "      <td>Música B</td>\n",
       "      <td>3</td>\n",
       "    </tr>\n",
       "    <tr>\n",
       "      <th>2</th>\n",
       "      <td>Usuário 1</td>\n",
       "      <td>Música C</td>\n",
       "      <td>4</td>\n",
       "    </tr>\n",
       "    <tr>\n",
       "      <th>3</th>\n",
       "      <td>Usuário 2</td>\n",
       "      <td>Música A</td>\n",
       "      <td>4</td>\n",
       "    </tr>\n",
       "    <tr>\n",
       "      <th>4</th>\n",
       "      <td>Usuário 2</td>\n",
       "      <td>Música C</td>\n",
       "      <td>5</td>\n",
       "    </tr>\n",
       "    <tr>\n",
       "      <th>5</th>\n",
       "      <td>Usuário 3</td>\n",
       "      <td>Música B</td>\n",
       "      <td>2</td>\n",
       "    </tr>\n",
       "    <tr>\n",
       "      <th>6</th>\n",
       "      <td>Usuário 3</td>\n",
       "      <td>Música C</td>\n",
       "      <td>3</td>\n",
       "    </tr>\n",
       "    <tr>\n",
       "      <th>7</th>\n",
       "      <td>Usuário 4</td>\n",
       "      <td>Música A</td>\n",
       "      <td>5</td>\n",
       "    </tr>\n",
       "    <tr>\n",
       "      <th>8</th>\n",
       "      <td>Usuário 4</td>\n",
       "      <td>Música B</td>\n",
       "      <td>4</td>\n",
       "    </tr>\n",
       "    <tr>\n",
       "      <th>9</th>\n",
       "      <td>Usuário 4</td>\n",
       "      <td>Música D</td>\n",
       "      <td>1</td>\n",
       "    </tr>\n",
       "  </tbody>\n",
       "</table>\n",
       "</div>"
      ],
      "text/plain": [
       "     Usuario    Musica  Avaliacao\n",
       "0  Usuário 1  Música A          5\n",
       "1  Usuário 1  Música B          3\n",
       "2  Usuário 1  Música C          4\n",
       "3  Usuário 2  Música A          4\n",
       "4  Usuário 2  Música C          5\n",
       "5  Usuário 3  Música B          2\n",
       "6  Usuário 3  Música C          3\n",
       "7  Usuário 4  Música A          5\n",
       "8  Usuário 4  Música B          4\n",
       "9  Usuário 4  Música D          1"
      ]
     },
     "execution_count": 40,
     "metadata": {},
     "output_type": "execute_result"
    }
   ],
   "source": [
    "# criando o DataFrame\n",
    "df = pd.DataFrame(data)\n",
    "df"
   ]
  },
  {
   "cell_type": "code",
   "execution_count": 41,
   "metadata": {},
   "outputs": [
    {
     "name": "stdout",
     "output_type": "stream",
     "text": [
      "Tabela de avaliações:\n",
      "Musica     Música A  Música B  Música C  Música D\n",
      "Usuario                                          \n",
      "Usuário 1       5.0       3.0       4.0       NaN\n",
      "Usuário 2       4.0       NaN       5.0       NaN\n",
      "Usuário 3       NaN       2.0       3.0       NaN\n",
      "Usuário 4       5.0       4.0       NaN       1.0\n"
     ]
    }
   ],
   "source": [
    "# criando a matriz de avaliações\n",
    "tabela_avaliacoes = df.pivot_table(index='Usuario', columns='Musica', values='Avaliacao')\n",
    "\n",
    "# exibindo a tabela de avaliações\n",
    "print(\"Tabela de avaliações:\")\n",
    "print(tabela_avaliacoes)\n"
   ]
  },
  {
   "cell_type": "code",
   "execution_count": 42,
   "metadata": {},
   "outputs": [],
   "source": [
    "# função para calcular a similaridade entre as músicas com base nas correlações das avaliações\n",
    "def calcular_similaridade(musica_interesse):\n",
    "    avaliacoes_musica = tabela_avaliacoes[musica_interesse]     # seleciona as avaliações da música de interesse\n",
    "    \n",
    "    musicas_similares = tabela_avaliacoes.corrwith(avaliacoes_musica)  # calcula a correlação com outras músicas\n",
    "    \n",
    "    recomendacoes = musicas_similares.dropna().sort_values(ascending=False).to_frame(name='Similaridade')  # remove valores nulos e cria um DataFrame com as similaridades\n",
    "\n",
    "    return recomendacoes"
   ]
  },
  {
   "cell_type": "code",
   "execution_count": 43,
   "metadata": {},
   "outputs": [
    {
     "name": "stderr",
     "output_type": "stream",
     "text": [
      "/home/williansoder/.local/lib/python3.10/site-packages/numpy/lib/function_base.py:2897: RuntimeWarning: invalid value encountered in divide\n",
      "  c /= stddev[:, None]\n",
      "/home/williansoder/.local/lib/python3.10/site-packages/numpy/lib/function_base.py:2898: RuntimeWarning: invalid value encountered in divide\n",
      "  c /= stddev[None, :]\n",
      "/home/williansoder/.local/lib/python3.10/site-packages/numpy/lib/function_base.py:2889: RuntimeWarning: Degrees of freedom <= 0 for slice\n",
      "  c = cov(x, y, rowvar, dtype=dtype)\n",
      "/home/williansoder/.local/lib/python3.10/site-packages/numpy/lib/function_base.py:2748: RuntimeWarning: divide by zero encountered in divide\n",
      "  c *= np.true_divide(1, fact)\n",
      "/home/williansoder/.local/lib/python3.10/site-packages/numpy/lib/function_base.py:2748: RuntimeWarning: invalid value encountered in multiply\n",
      "  c *= np.true_divide(1, fact)\n"
     ]
    }
   ],
   "source": [
    "musica_escolhida = 'Música A'\n",
    "# obtendo recomendações baseadas na música escolhida\n",
    "recomendacoes = calcular_similaridade(musica_escolhida)"
   ]
  },
  {
   "cell_type": "code",
   "execution_count": 44,
   "metadata": {},
   "outputs": [
    {
     "name": "stdout",
     "output_type": "stream",
     "text": [
      "\n",
      "Músicas recomendadas com base na música 'Música A':\n",
      "          Similaridade\n",
      "Musica                \n",
      "Música A           1.0\n",
      "Música C          -1.0\n"
     ]
    }
   ],
   "source": [
    "# exibindo as recomendações\n",
    "print(f\"\\nMúsicas recomendadas com base na música '{musica_escolhida}':\")\n",
    "print(recomendacoes)"
   ]
  }
 ],
 "metadata": {
  "kernelspec": {
   "display_name": "Python 3",
   "language": "python",
   "name": "python3"
  },
  "language_info": {
   "codemirror_mode": {
    "name": "ipython",
    "version": 3
   },
   "file_extension": ".py",
   "mimetype": "text/x-python",
   "name": "python",
   "nbconvert_exporter": "python",
   "pygments_lexer": "ipython3",
   "version": "3.10.12"
  }
 },
 "nbformat": 4,
 "nbformat_minor": 2
}
