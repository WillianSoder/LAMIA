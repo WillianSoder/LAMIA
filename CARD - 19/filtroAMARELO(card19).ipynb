{
 "cells": [
  {
   "cell_type": "markdown",
   "metadata": {},
   "source": [
    "### Criando um filtro para a cor amarela "
   ]
  },
  {
   "cell_type": "code",
   "execution_count": 1,
   "metadata": {},
   "outputs": [],
   "source": [
    "import cv2\n",
    "import numpy as np "
   ]
  },
  {
   "cell_type": "code",
   "execution_count": 2,
   "metadata": {},
   "outputs": [],
   "source": [
    "#  video da webcam \n",
    "cap = cv2.VideoCapture(0)\n",
    "\n",
    "while True:\n",
    "    _, frame = cap.read()\n",
    "    \n",
    "    HSV = cv2.cvtColor( frame, cv2.COLOR_BGR2HSV)\n",
    "    \n",
    "    # criando uma mascara que filtra apenas cor amarela \n",
    "    amarelo1 = np.array([20, 100, 100])  # limite inferior\n",
    "    amarelo2 = np.array([30, 255, 255])  # limite superior\n",
    "    filtro_amarelo = cv2.inRange(HSV, amarelo1, amarelo2)\n",
    "    # vai aplicar a máscara à imagem original\n",
    "    Amarelo = cv2.bitwise_and(frame, frame, mask = filtro_amarelo)\n",
    "    \n",
    "    \n",
    "     # mostrar a imagem filtrada\n",
    "    cv2.imshow(\"Amarelo\", Amarelo)\n",
    "    \n",
    "    key = cv2.waitKey(1)\n",
    "    \n",
    "    if key == 27:\n",
    "        break # quebra o laço ao pressionar a tecla ESC\n",
    "\n",
    "# libera a captura e fechar as janelas\n",
    "cap.release()\n",
    "cv2.destroyAllWindows()"
   ]
  }
 ],
 "metadata": {
  "kernelspec": {
   "display_name": "Python 3",
   "language": "python",
   "name": "python3"
  },
  "language_info": {
   "codemirror_mode": {
    "name": "ipython",
    "version": 3
   },
   "file_extension": ".py",
   "mimetype": "text/x-python",
   "name": "python",
   "nbconvert_exporter": "python",
   "pygments_lexer": "ipython3",
   "version": "3.12.1"
  }
 },
 "nbformat": 4,
 "nbformat_minor": 2
}
