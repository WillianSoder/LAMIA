{
 "cells": [
  {
   "cell_type": "markdown",
   "metadata": {},
   "source": [
    "# Modelo de Sequence-to-Sequence\n",
    "### Abaixo segue a implementação basica de um modelo 'Sequence-to-Sequence' (Seq2Seq) que é um tipo de modelo que utiliza conceitos de encoder e decoder para tarefas de tradução ou geração de texto. No exemplo o objetivo e treinar o modelo para traduzir uma frase do inglês para português\n",
    "\n",
    "Mais informações sobre modelos Seq2Seq em: \n",
    "https://medium.com/luisfredgs/o-que-%C3%A9-sequence-to-sequence-em-deep-learning-9f8857a423ca"
   ]
  },
  {
   "cell_type": "code",
   "execution_count": 72,
   "metadata": {},
   "outputs": [],
   "source": [
    "import numpy as np\n",
    "import tensorflow as tf\n",
    "from tensorflow.keras.models import Model\n",
    "from tensorflow.keras.layers import Input, LSTM, Dense, Embedding\n",
    "from tensorflow.keras.preprocessing.text import Tokenizer\n",
    "from tensorflow.keras.preprocessing.sequence import pad_sequences"
   ]
  },
  {
   "cell_type": "code",
   "execution_count": 110,
   "metadata": {},
   "outputs": [],
   "source": [
    "# dados de exemplo em inglês e português\n",
    "texto_entrada = ['hello', 'how are you', 'goodbye']\n",
    "texto_alvo = ['olá', 'como você está', 'adeus']"
   ]
  },
  {
   "cell_type": "code",
   "execution_count": 111,
   "metadata": {},
   "outputs": [],
   "source": [
    "# adicionando tokens de início e fim para as frases de destino\n",
    "texto_alvo_entrada = ['\\t' + text for text in texto_alvo]\n",
    "texto_alvo_saida = [text + '\\n' for text in texto_alvo]"
   ]
  },
  {
   "cell_type": "code",
   "execution_count": 112,
   "metadata": {},
   "outputs": [],
   "source": [
    "# realizando a tokenização do texto de entrada\n",
    "tokenizer_entrada = Tokenizer(char_level=False)\n",
    "tokenizer_entrada.fit_on_texts(texto_entrada) # ajusta o tokenizador \n",
    "sequencias_entrada = tokenizer_entrada.texts_to_sequences(texto_entrada) # converte os textos de entrada para inteiros\n",
    "sequencias_entrada = pad_sequences(sequencias_entrada, padding='post')\n",
    "\n",
    "# realizando a tokenização do texto de saída\n",
    "tokenizer_alvo = Tokenizer(char_level=False)\n",
    "tokenizer_alvo.fit_on_texts(texto_alvo_entrada + texto_alvo_saida)\n",
    "sequencia_alvo_entrada = tokenizer_alvo.texts_to_sequences(texto_alvo_entrada)\n",
    "sequencia_alvo_saida = tokenizer_alvo.texts_to_sequences(texto_alvo_saida)\n",
    "sequencia_alvo_entrada = pad_sequences(sequencia_alvo_entrada, padding='post')\n",
    "sequencia_alvo_saida = pad_sequences(sequencia_alvo_saida, padding='post')"
   ]
  },
  {
   "cell_type": "code",
   "execution_count": 113,
   "metadata": {},
   "outputs": [],
   "source": [
    "# definindo os parâmetros do modelo\n",
    "num_encoder_tokens = len(tokenizer_entrada.word_index) + 1\n",
    "num_decoder_tokens = len(tokenizer_alvo.word_index) + 1\n",
    "dimensão_lat = 50  # dimensão do espaço latente"
   ]
  },
  {
   "cell_type": "code",
   "execution_count": 114,
   "metadata": {},
   "outputs": [],
   "source": [
    "# definindo o encoder\n",
    "encoder_entrada = Input(shape=(None,))\n",
    "encoder_embedding = Embedding(input_dim=num_encoder_tokens, output_dim=dimensão_lat)(encoder_entrada) # realizando o embedding \n",
    "encoder_lstm = LSTM(dimensão_lat, return_state=True)\n",
    "encoder_saida, estado_h, estado_c = encoder_lstm(encoder_embedding)\n",
    "encoder_estado = [estado_h, estado_c]"
   ]
  },
  {
   "cell_type": "code",
   "execution_count": 115,
   "metadata": {},
   "outputs": [],
   "source": [
    "# definindo o decoder\n",
    "decoder_entrada = Input(shape=(None,))\n",
    "decoder_embedding = Embedding(input_dim=num_decoder_tokens, output_dim=dimensão_lat)(decoder_entrada) # realizando o embedding \n",
    "decoder_lstm = LSTM(dimensão_lat, return_sequences=True, return_state=True)\n",
    "decoder_saida, _, _ = decoder_lstm(decoder_embedding, initial_state=encoder_estado )\n",
    "decoder_dense = Dense(num_decoder_tokens, activation='softmax')\n",
    "decoder_saida = decoder_dense(decoder_saida)"
   ]
  },
  {
   "cell_type": "code",
   "execution_count": 116,
   "metadata": {},
   "outputs": [],
   "source": [
    "# criando o modelo Seq2Seq\n",
    "modelo = Model([encoder_entrada, decoder_entrada], decoder_saida)\n",
    "modelo.compile(optimizer='adam', loss='sparse_categorical_crossentropy')"
   ]
  },
  {
   "cell_type": "code",
   "execution_count": 117,
   "metadata": {},
   "outputs": [
    {
     "name": "stdout",
     "output_type": "stream",
     "text": [
      "Epoch 1/50\n",
      "\u001b[1m2/2\u001b[0m \u001b[32m━━━━━━━━━━━━━━━━━━━━\u001b[0m\u001b[37m\u001b[0m \u001b[1m1s\u001b[0m 172ms/step - loss: 1.7900 - val_loss: 1.7717\n",
      "Epoch 2/50\n",
      "\u001b[1m2/2\u001b[0m \u001b[32m━━━━━━━━━━━━━━━━━━━━\u001b[0m\u001b[37m\u001b[0m \u001b[1m0s\u001b[0m 26ms/step - loss: 1.7799 - val_loss: 1.7650\n",
      "Epoch 3/50\n",
      "\u001b[1m2/2\u001b[0m \u001b[32m━━━━━━━━━━━━━━━━━━━━\u001b[0m\u001b[37m\u001b[0m \u001b[1m0s\u001b[0m 30ms/step - loss: 1.7643 - val_loss: 1.7552\n",
      "Epoch 4/50\n",
      "\u001b[1m2/2\u001b[0m \u001b[32m━━━━━━━━━━━━━━━━━━━━\u001b[0m\u001b[37m\u001b[0m \u001b[1m0s\u001b[0m 29ms/step - loss: 1.7603 - val_loss: 1.7467\n",
      "Epoch 5/50\n",
      "\u001b[1m2/2\u001b[0m \u001b[32m━━━━━━━━━━━━━━━━━━━━\u001b[0m\u001b[37m\u001b[0m \u001b[1m0s\u001b[0m 28ms/step - loss: 1.7499 - val_loss: 1.7371\n",
      "Epoch 6/50\n",
      "\u001b[1m2/2\u001b[0m \u001b[32m━━━━━━━━━━━━━━━━━━━━\u001b[0m\u001b[37m\u001b[0m \u001b[1m0s\u001b[0m 28ms/step - loss: 1.7387 - val_loss: 1.7263\n",
      "Epoch 7/50\n",
      "\u001b[1m2/2\u001b[0m \u001b[32m━━━━━━━━━━━━━━━━━━━━\u001b[0m\u001b[37m\u001b[0m \u001b[1m0s\u001b[0m 46ms/step - loss: 1.7095 - val_loss: 1.7126\n",
      "Epoch 8/50\n",
      "\u001b[1m2/2\u001b[0m \u001b[32m━━━━━━━━━━━━━━━━━━━━\u001b[0m\u001b[37m\u001b[0m \u001b[1m0s\u001b[0m 28ms/step - loss: 1.7137 - val_loss: 1.6993\n",
      "Epoch 9/50\n",
      "\u001b[1m2/2\u001b[0m \u001b[32m━━━━━━━━━━━━━━━━━━━━\u001b[0m\u001b[37m\u001b[0m \u001b[1m0s\u001b[0m 28ms/step - loss: 1.6992 - val_loss: 1.6841\n",
      "Epoch 10/50\n",
      "\u001b[1m2/2\u001b[0m \u001b[32m━━━━━━━━━━━━━━━━━━━━\u001b[0m\u001b[37m\u001b[0m \u001b[1m0s\u001b[0m 27ms/step - loss: 1.6829 - val_loss: 1.6667\n",
      "Epoch 11/50\n",
      "\u001b[1m2/2\u001b[0m \u001b[32m━━━━━━━━━━━━━━━━━━━━\u001b[0m\u001b[37m\u001b[0m \u001b[1m0s\u001b[0m 29ms/step - loss: 1.6647 - val_loss: 1.6469\n",
      "Epoch 12/50\n",
      "\u001b[1m2/2\u001b[0m \u001b[32m━━━━━━━━━━━━━━━━━━━━\u001b[0m\u001b[37m\u001b[0m \u001b[1m0s\u001b[0m 26ms/step - loss: 1.6002 - val_loss: 1.6218\n",
      "Epoch 13/50\n",
      "\u001b[1m2/2\u001b[0m \u001b[32m━━━━━━━━━━━━━━━━━━━━\u001b[0m\u001b[37m\u001b[0m \u001b[1m0s\u001b[0m 28ms/step - loss: 1.5668 - val_loss: 1.5936\n",
      "Epoch 14/50\n",
      "\u001b[1m2/2\u001b[0m \u001b[32m━━━━━━━━━━━━━━━━━━━━\u001b[0m\u001b[37m\u001b[0m \u001b[1m0s\u001b[0m 27ms/step - loss: 1.5290 - val_loss: 1.5620\n",
      "Epoch 15/50\n",
      "\u001b[1m2/2\u001b[0m \u001b[32m━━━━━━━━━━━━━━━━━━━━\u001b[0m\u001b[37m\u001b[0m \u001b[1m0s\u001b[0m 25ms/step - loss: 1.5639 - val_loss: 1.5298\n",
      "Epoch 16/50\n",
      "\u001b[1m2/2\u001b[0m \u001b[32m━━━━━━━━━━━━━━━━━━━━\u001b[0m\u001b[37m\u001b[0m \u001b[1m0s\u001b[0m 27ms/step - loss: 1.4406 - val_loss: 1.4892\n",
      "Epoch 17/50\n",
      "\u001b[1m2/2\u001b[0m \u001b[32m━━━━━━━━━━━━━━━━━━━━\u001b[0m\u001b[37m\u001b[0m \u001b[1m0s\u001b[0m 33ms/step - loss: 1.3847 - val_loss: 1.4444\n",
      "Epoch 18/50\n",
      "\u001b[1m2/2\u001b[0m \u001b[32m━━━━━━━━━━━━━━━━━━━━\u001b[0m\u001b[37m\u001b[0m \u001b[1m0s\u001b[0m 33ms/step - loss: 1.4471 - val_loss: 1.4001\n",
      "Epoch 19/50\n",
      "\u001b[1m2/2\u001b[0m \u001b[32m━━━━━━━━━━━━━━━━━━━━\u001b[0m\u001b[37m\u001b[0m \u001b[1m0s\u001b[0m 26ms/step - loss: 1.2575 - val_loss: 1.3478\n",
      "Epoch 20/50\n",
      "\u001b[1m2/2\u001b[0m \u001b[32m━━━━━━━━━━━━━━━━━━━━\u001b[0m\u001b[37m\u001b[0m \u001b[1m0s\u001b[0m 27ms/step - loss: 1.1821 - val_loss: 1.2955\n",
      "Epoch 21/50\n",
      "\u001b[1m2/2\u001b[0m \u001b[32m━━━━━━━━━━━━━━━━━━━━\u001b[0m\u001b[37m\u001b[0m \u001b[1m0s\u001b[0m 38ms/step - loss: 1.2931 - val_loss: 1.2502\n",
      "Epoch 22/50\n",
      "\u001b[1m2/2\u001b[0m \u001b[32m━━━━━━━━━━━━━━━━━━━━\u001b[0m\u001b[37m\u001b[0m \u001b[1m0s\u001b[0m 37ms/step - loss: 1.2386 - val_loss: 1.2109\n",
      "Epoch 23/50\n",
      "\u001b[1m2/2\u001b[0m \u001b[32m━━━━━━━━━━━━━━━━━━━━\u001b[0m\u001b[37m\u001b[0m \u001b[1m0s\u001b[0m 33ms/step - loss: 1.1855 - val_loss: 1.1821\n",
      "Epoch 24/50\n",
      "\u001b[1m2/2\u001b[0m \u001b[32m━━━━━━━━━━━━━━━━━━━━\u001b[0m\u001b[37m\u001b[0m \u001b[1m0s\u001b[0m 26ms/step - loss: 1.1356 - val_loss: 1.1674\n",
      "Epoch 25/50\n",
      "\u001b[1m2/2\u001b[0m \u001b[32m━━━━━━━━━━━━━━━━━━━━\u001b[0m\u001b[37m\u001b[0m \u001b[1m0s\u001b[0m 31ms/step - loss: 0.8435 - val_loss: 1.1685\n",
      "Epoch 26/50\n",
      "\u001b[1m2/2\u001b[0m \u001b[32m━━━━━━━━━━━━━━━━━━━━\u001b[0m\u001b[37m\u001b[0m \u001b[1m0s\u001b[0m 31ms/step - loss: 1.0492 - val_loss: 1.1821\n",
      "Epoch 27/50\n",
      "\u001b[1m2/2\u001b[0m \u001b[32m━━━━━━━━━━━━━━━━━━━━\u001b[0m\u001b[37m\u001b[0m \u001b[1m0s\u001b[0m 27ms/step - loss: 0.7617 - val_loss: 1.2064\n",
      "Epoch 28/50\n",
      "\u001b[1m2/2\u001b[0m \u001b[32m━━━━━━━━━━━━━━━━━━━━\u001b[0m\u001b[37m\u001b[0m \u001b[1m0s\u001b[0m 29ms/step - loss: 0.7296 - val_loss: 1.2350\n",
      "Epoch 29/50\n",
      "\u001b[1m2/2\u001b[0m \u001b[32m━━━━━━━━━━━━━━━━━━━━\u001b[0m\u001b[37m\u001b[0m \u001b[1m0s\u001b[0m 26ms/step - loss: 0.6998 - val_loss: 1.2642\n",
      "Epoch 30/50\n",
      "\u001b[1m2/2\u001b[0m \u001b[32m━━━━━━━━━━━━━━━━━━━━\u001b[0m\u001b[37m\u001b[0m \u001b[1m0s\u001b[0m 28ms/step - loss: 0.9020 - val_loss: 1.2902\n",
      "Epoch 31/50\n",
      "\u001b[1m2/2\u001b[0m \u001b[32m━━━━━━━━━━━━━━━━━━━━\u001b[0m\u001b[37m\u001b[0m \u001b[1m0s\u001b[0m 30ms/step - loss: 0.8648 - val_loss: 1.3141\n",
      "Epoch 32/50\n",
      "\u001b[1m2/2\u001b[0m \u001b[32m━━━━━━━━━━━━━━━━━━━━\u001b[0m\u001b[37m\u001b[0m \u001b[1m0s\u001b[0m 30ms/step - loss: 0.8293 - val_loss: 1.3361\n",
      "Epoch 33/50\n",
      "\u001b[1m2/2\u001b[0m \u001b[32m━━━━━━━━━━━━━━━━━━━━\u001b[0m\u001b[37m\u001b[0m \u001b[1m0s\u001b[0m 26ms/step - loss: 0.5890 - val_loss: 1.3587\n",
      "Epoch 34/50\n",
      "\u001b[1m2/2\u001b[0m \u001b[32m━━━━━━━━━━━━━━━━━━━━\u001b[0m\u001b[37m\u001b[0m \u001b[1m0s\u001b[0m 27ms/step - loss: 0.5647 - val_loss: 1.3800\n",
      "Epoch 35/50\n",
      "\u001b[1m2/2\u001b[0m \u001b[32m━━━━━━━━━━━━━━━━━━━━\u001b[0m\u001b[37m\u001b[0m \u001b[1m0s\u001b[0m 29ms/step - loss: 0.5427 - val_loss: 1.3998\n",
      "Epoch 36/50\n",
      "\u001b[1m2/2\u001b[0m \u001b[32m━━━━━━━━━━━━━━━━━━━━\u001b[0m\u001b[37m\u001b[0m \u001b[1m0s\u001b[0m 31ms/step - loss: 0.5221 - val_loss: 1.4180\n",
      "Epoch 37/50\n",
      "\u001b[1m2/2\u001b[0m \u001b[32m━━━━━━━━━━━━━━━━━━━━\u001b[0m\u001b[37m\u001b[0m \u001b[1m0s\u001b[0m 28ms/step - loss: 0.5021 - val_loss: 1.4345\n",
      "Epoch 38/50\n",
      "\u001b[1m2/2\u001b[0m \u001b[32m━━━━━━━━━━━━━━━━━━━━\u001b[0m\u001b[37m\u001b[0m \u001b[1m0s\u001b[0m 28ms/step - loss: 0.4820 - val_loss: 1.4498\n",
      "Epoch 39/50\n",
      "\u001b[1m2/2\u001b[0m \u001b[32m━━━━━━━━━━━━━━━━━━━━\u001b[0m\u001b[37m\u001b[0m \u001b[1m0s\u001b[0m 27ms/step - loss: 0.4615 - val_loss: 1.4645\n",
      "Epoch 40/50\n",
      "\u001b[1m2/2\u001b[0m \u001b[32m━━━━━━━━━━━━━━━━━━━━\u001b[0m\u001b[37m\u001b[0m \u001b[1m0s\u001b[0m 27ms/step - loss: 0.6083 - val_loss: 1.4771\n",
      "Epoch 41/50\n",
      "\u001b[1m2/2\u001b[0m \u001b[32m━━━━━━━━━━━━━━━━━━━━\u001b[0m\u001b[37m\u001b[0m \u001b[1m0s\u001b[0m 30ms/step - loss: 0.4203 - val_loss: 1.4925\n",
      "Epoch 42/50\n",
      "\u001b[1m2/2\u001b[0m \u001b[32m━━━━━━━━━━━━━━━━━━━━\u001b[0m\u001b[37m\u001b[0m \u001b[1m0s\u001b[0m 28ms/step - loss: 0.5534 - val_loss: 1.5060\n",
      "Epoch 43/50\n",
      "\u001b[1m2/2\u001b[0m \u001b[32m━━━━━━━━━━━━━━━━━━━━\u001b[0m\u001b[37m\u001b[0m \u001b[1m0s\u001b[0m 28ms/step - loss: 0.5253 - val_loss: 1.5201\n",
      "Epoch 44/50\n",
      "\u001b[1m2/2\u001b[0m \u001b[32m━━━━━━━━━━━━━━━━━━━━\u001b[0m\u001b[37m\u001b[0m \u001b[1m0s\u001b[0m 29ms/step - loss: 0.4974 - val_loss: 1.5348\n",
      "Epoch 45/50\n",
      "\u001b[1m2/2\u001b[0m \u001b[32m━━━━━━━━━━━━━━━━━━━━\u001b[0m\u001b[37m\u001b[0m \u001b[1m0s\u001b[0m 34ms/step - loss: 0.4698 - val_loss: 1.5499\n",
      "Epoch 46/50\n",
      "\u001b[1m2/2\u001b[0m \u001b[32m━━━━━━━━━━━━━━━━━━━━\u001b[0m\u001b[37m\u001b[0m \u001b[1m0s\u001b[0m 26ms/step - loss: 0.4424 - val_loss: 1.5653\n",
      "Epoch 47/50\n",
      "\u001b[1m2/2\u001b[0m \u001b[32m━━━━━━━━━━━━━━━━━━━━\u001b[0m\u001b[37m\u001b[0m \u001b[1m0s\u001b[0m 29ms/step - loss: 0.3043 - val_loss: 1.5835\n",
      "Epoch 48/50\n",
      "\u001b[1m2/2\u001b[0m \u001b[32m━━━━━━━━━━━━━━━━━━━━\u001b[0m\u001b[37m\u001b[0m \u001b[1m0s\u001b[0m 27ms/step - loss: 0.2865 - val_loss: 1.6015\n",
      "Epoch 49/50\n",
      "\u001b[1m2/2\u001b[0m \u001b[32m━━━━━━━━━━━━━━━━━━━━\u001b[0m\u001b[37m\u001b[0m \u001b[1m0s\u001b[0m 28ms/step - loss: 0.2693 - val_loss: 1.6193\n",
      "Epoch 50/50\n",
      "\u001b[1m2/2\u001b[0m \u001b[32m━━━━━━━━━━━━━━━━━━━━\u001b[0m\u001b[37m\u001b[0m \u001b[1m0s\u001b[0m 25ms/step - loss: 0.3425 - val_loss: 1.6343\n"
     ]
    },
    {
     "data": {
      "text/plain": [
       "<keras.src.callbacks.history.History at 0x7fe30d7c4190>"
      ]
     },
     "execution_count": 117,
     "metadata": {},
     "output_type": "execute_result"
    }
   ],
   "source": [
    "# ajustando os dados para treinamento\n",
    "decoder_alvos = np.expand_dims(sequencia_alvo_saida, -1)\n",
    "\n",
    "# realizando o treinamento do modelo\n",
    "modelo.fit([sequencias_entrada, sequencia_alvo_entrada], decoder_alvos,\n",
    "          batch_size=1,\n",
    "          epochs=50,\n",
    "          validation_split=0.2)"
   ]
  },
  {
   "cell_type": "code",
   "execution_count": 118,
   "metadata": {},
   "outputs": [],
   "source": [
    "# definindo o modelo de inferência\n",
    "encoder_modelo = Model(encoder_entrada, encoder_estado )\n",
    "\n",
    "decoder_estado_entrada_h = Input(shape=(dimensão_lat,))\n",
    "decoder_estado_entrada_c = Input(shape=(dimensão_lat,))\n",
    "decoder_estados_entradas = [decoder_estado_entrada_h, decoder_estado_entrada_c]\n",
    "decoder_embedding_inf = Embedding(input_dim=num_decoder_tokens, output_dim=dimensão_lat)(decoder_entrada)\n",
    "decoder_saidas_inf, estado_h_inf, estado_c_inf = decoder_lstm(decoder_embedding_inf, initial_state=decoder_estados_entradas)\n",
    "decoder_saidas_inf = decoder_dense(decoder_saidas_inf)\n",
    "decoder_estados  = [estado_h_inf, estado_c_inf]\n",
    "\n",
    "modelo_decoder = Model([decoder_entrada] + decoder_estados_entradas, [decoder_saidas_inf] + decoder_estados )"
   ]
  },
  {
   "cell_type": "code",
   "execution_count": 119,
   "metadata": {},
   "outputs": [],
   "source": [
    "# definindo uma função para decodificar uma sequência\n",
    "def decodificador_seq(seq_entrada):\n",
    "    valores_estados = encoder_modelo.predict(seq_entrada) # obtem os estados iniciais do encoder a partir da sequência de entrada\n",
    "    seq_alvo = np.zeros((1, 1))\n",
    "    seq_alvo[0, 0] = tokenizer_alvo.word_index.get('\\t', 0)  # início da sequência de destino\n",
    "    \n",
    "\n",
    "    # variaveis de controle para o loop de decodificação\n",
    "    cond_parada = False\n",
    "    sentenca_decodificada = ''\n",
    "    iteraçoes_lim = 100  # limite de iterações para evitar loop infinito\n",
    "    iteracoes = 0\n",
    "    palavra_anterior = ''\n",
    "    \n",
    "\n",
    "    # loop de decodificação\n",
    "    while not cond_parada:\n",
    "        tokens_saida, h, c = modelo_decoder.predict([seq_alvo] + valores_estados) # faz a predição do próximo token com o decoder\n",
    "        indice_token  = np.argmax(tokens_saida[0, -1, :])\n",
    "        amostra_palavra  = tokenizer_alvo.index_word.get(indice_token , '')\n",
    "        \n",
    "        if amostra_palavra  == '\\n' or len(sentenca_decodificada.split()) > 50 or iteracoes > iteraçoes_lim or amostra_palavra  == palavra_anterior:\n",
    "            cond_parada = True\n",
    "        \n",
    "        sentenca_decodificada += ' ' + amostra_palavra   # adiciona a palavra decodificada à sentença final\n",
    "        seq_alvo = np.zeros((1, 1))\n",
    "        seq_alvo[0, 0] = indice_token \n",
    "        valores_estados = [h, c]\n",
    "        iteracoes += 1\n",
    "        palavra_anterior = amostra_palavra \n",
    "    \n",
    "    return sentenca_decodificada.strip()"
   ]
  },
  {
   "cell_type": "code",
   "execution_count": 120,
   "metadata": {},
   "outputs": [
    {
     "name": "stdout",
     "output_type": "stream",
     "text": [
      "\u001b[1m1/1\u001b[0m \u001b[32m━━━━━━━━━━━━━━━━━━━━\u001b[0m\u001b[37m\u001b[0m \u001b[1m0s\u001b[0m 64ms/step\n",
      "\u001b[1m1/1\u001b[0m \u001b[32m━━━━━━━━━━━━━━━━━━━━\u001b[0m\u001b[37m\u001b[0m \u001b[1m0s\u001b[0m 65ms/step\n",
      "\u001b[1m1/1\u001b[0m \u001b[32m━━━━━━━━━━━━━━━━━━━━\u001b[0m\u001b[37m\u001b[0m \u001b[1m0s\u001b[0m 16ms/step\n",
      "\u001b[1m1/1\u001b[0m \u001b[32m━━━━━━━━━━━━━━━━━━━━\u001b[0m\u001b[37m\u001b[0m \u001b[1m0s\u001b[0m 17ms/step\n",
      "\u001b[1m1/1\u001b[0m \u001b[32m━━━━━━━━━━━━━━━━━━━━\u001b[0m\u001b[37m\u001b[0m \u001b[1m0s\u001b[0m 17ms/step\n",
      "Sentença decodificada: como você está está\n"
     ]
    }
   ],
   "source": [
    "# testando a decodificação\n",
    "sequencia_teste = pad_sequences(tokenizer_entrada.texts_to_sequences(['how are you']), maxlen=sequencias_entrada.shape[1])\n",
    "sentenca_decodificada = decodificador_seq(sequencia_teste)\n",
    "print('Sentença decodificada:', sentenca_decodificada)"
   ]
  }
 ],
 "metadata": {
  "kernelspec": {
   "display_name": "Python 3",
   "language": "python",
   "name": "python3"
  },
  "language_info": {
   "codemirror_mode": {
    "name": "ipython",
    "version": 3
   },
   "file_extension": ".py",
   "mimetype": "text/x-python",
   "name": "python",
   "nbconvert_exporter": "python",
   "pygments_lexer": "ipython3",
   "version": "3.10.12"
  }
 },
 "nbformat": 4,
 "nbformat_minor": 2
}
