{
 "cells": [
  {
   "cell_type": "markdown",
   "metadata": {},
   "source": [
    "## Multiple Regression\n",
    "O objetivo deste codigo e prever o preço de uma casa com base nas informaçoes de area, numero de quartos e idade"
   ]
  },
  {
   "cell_type": "code",
   "execution_count": 14,
   "metadata": {},
   "outputs": [],
   "source": [
    "# importando as bibliotecas necessarias \n",
    "import pandas as pd\n",
    "import statsmodels.api as sm\n",
    "from sklearn.preprocessing import StandardScaler\n",
    "import numpy as np\n",
    "import matplotlib as plt"
   ]
  },
  {
   "cell_type": "code",
   "execution_count": 10,
   "metadata": {},
   "outputs": [],
   "source": [
    "# criando o cojunto de dados necessarios para fazer a regressão \n",
    "dados = {\n",
    "    'Area': [1500, 1600, 1700, 1800, 1900, 2000, 2100, 2200, 2300, 2400],\n",
    "    'Quartos': [3, 3, 4, 4, 5, 5, 3, 4, 4, 5],\n",
    "    'Idade': [10, 15, 20, 25, 10, 5, 30, 20, 15, 10],\n",
    "    'Preco': [300000, 320000, 340000, 360000, 380000, 400000, 420000, 440000, 460000, 480000]\n",
    "}"
   ]
  },
  {
   "cell_type": "code",
   "execution_count": 11,
   "metadata": {},
   "outputs": [
    {
     "data": {
      "text/html": [
       "<div>\n",
       "<style scoped>\n",
       "    .dataframe tbody tr th:only-of-type {\n",
       "        vertical-align: middle;\n",
       "    }\n",
       "\n",
       "    .dataframe tbody tr th {\n",
       "        vertical-align: top;\n",
       "    }\n",
       "\n",
       "    .dataframe thead th {\n",
       "        text-align: right;\n",
       "    }\n",
       "</style>\n",
       "<table border=\"1\" class=\"dataframe\">\n",
       "  <thead>\n",
       "    <tr style=\"text-align: right;\">\n",
       "      <th></th>\n",
       "      <th>Area</th>\n",
       "      <th>Quartos</th>\n",
       "      <th>Idade</th>\n",
       "      <th>Preco</th>\n",
       "    </tr>\n",
       "  </thead>\n",
       "  <tbody>\n",
       "    <tr>\n",
       "      <th>0</th>\n",
       "      <td>1500</td>\n",
       "      <td>3</td>\n",
       "      <td>10</td>\n",
       "      <td>300000</td>\n",
       "    </tr>\n",
       "    <tr>\n",
       "      <th>1</th>\n",
       "      <td>1600</td>\n",
       "      <td>3</td>\n",
       "      <td>15</td>\n",
       "      <td>320000</td>\n",
       "    </tr>\n",
       "    <tr>\n",
       "      <th>2</th>\n",
       "      <td>1700</td>\n",
       "      <td>4</td>\n",
       "      <td>20</td>\n",
       "      <td>340000</td>\n",
       "    </tr>\n",
       "    <tr>\n",
       "      <th>3</th>\n",
       "      <td>1800</td>\n",
       "      <td>4</td>\n",
       "      <td>25</td>\n",
       "      <td>360000</td>\n",
       "    </tr>\n",
       "    <tr>\n",
       "      <th>4</th>\n",
       "      <td>1900</td>\n",
       "      <td>5</td>\n",
       "      <td>10</td>\n",
       "      <td>380000</td>\n",
       "    </tr>\n",
       "    <tr>\n",
       "      <th>5</th>\n",
       "      <td>2000</td>\n",
       "      <td>5</td>\n",
       "      <td>5</td>\n",
       "      <td>400000</td>\n",
       "    </tr>\n",
       "    <tr>\n",
       "      <th>6</th>\n",
       "      <td>2100</td>\n",
       "      <td>3</td>\n",
       "      <td>30</td>\n",
       "      <td>420000</td>\n",
       "    </tr>\n",
       "    <tr>\n",
       "      <th>7</th>\n",
       "      <td>2200</td>\n",
       "      <td>4</td>\n",
       "      <td>20</td>\n",
       "      <td>440000</td>\n",
       "    </tr>\n",
       "    <tr>\n",
       "      <th>8</th>\n",
       "      <td>2300</td>\n",
       "      <td>4</td>\n",
       "      <td>15</td>\n",
       "      <td>460000</td>\n",
       "    </tr>\n",
       "    <tr>\n",
       "      <th>9</th>\n",
       "      <td>2400</td>\n",
       "      <td>5</td>\n",
       "      <td>10</td>\n",
       "      <td>480000</td>\n",
       "    </tr>\n",
       "  </tbody>\n",
       "</table>\n",
       "</div>"
      ],
      "text/plain": [
       "   Area  Quartos  Idade   Preco\n",
       "0  1500        3     10  300000\n",
       "1  1600        3     15  320000\n",
       "2  1700        4     20  340000\n",
       "3  1800        4     25  360000\n",
       "4  1900        5     10  380000\n",
       "5  2000        5      5  400000\n",
       "6  2100        3     30  420000\n",
       "7  2200        4     20  440000\n",
       "8  2300        4     15  460000\n",
       "9  2400        5     10  480000"
      ]
     },
     "execution_count": 11,
     "metadata": {},
     "output_type": "execute_result"
    }
   ],
   "source": [
    "# criando um data frame com os dados \n",
    "df = pd.DataFrame(dados)\n",
    "df"
   ]
  },
  {
   "cell_type": "code",
   "execution_count": 19,
   "metadata": {},
   "outputs": [],
   "source": [
    "# extraindo os dados necessarios\n",
    "X = df[['Area', 'Quartos', 'Idade']] # caracteristicas\n",
    "y = df['Preco'] # alvo"
   ]
  },
  {
   "cell_type": "code",
   "execution_count": 20,
   "metadata": {},
   "outputs": [],
   "source": [
    "# fazendo o pré processamento dos dados\n",
    "scaler = StandardScaler() # garante que todas as variaveis tenham o mesmo peso na analise \n",
    "X_scaled = scaler.fit_transform(X)"
   ]
  },
  {
   "cell_type": "code",
   "execution_count": 21,
   "metadata": {},
   "outputs": [],
   "source": [
    "# adicionando a coluna constante \n",
    "X_scaled = sm.add_constant(X_scaled)"
   ]
  },
  {
   "cell_type": "code",
   "execution_count": 22,
   "metadata": {},
   "outputs": [
    {
     "name": "stdout",
     "output_type": "stream",
     "text": [
      "                            OLS Regression Results                            \n",
      "==============================================================================\n",
      "Dep. Variable:                  Preco   R-squared:                       1.000\n",
      "Model:                            OLS   Adj. R-squared:                  1.000\n",
      "Method:                 Least Squares   F-statistic:                 8.854e+29\n",
      "Date:                Sun, 21 Jul 2024   Prob (F-statistic):           2.52e-89\n",
      "Time:                        10:59:17   Log-Likelihood:                 217.54\n",
      "No. Observations:                  10   AIC:                            -427.1\n",
      "Df Residuals:                       6   BIC:                            -425.9\n",
      "Df Model:                           3                                         \n",
      "Covariance Type:            nonrobust                                         \n",
      "==============================================================================\n",
      "                 coef    std err          t      P>|t|      [0.025      0.975]\n",
      "------------------------------------------------------------------------------\n",
      "const         3.9e+05   3.52e-11   1.11e+16      0.000     3.9e+05     3.9e+05\n",
      "x1          5.745e+04   4.39e-11   1.31e+15      0.000    5.74e+04    5.74e+04\n",
      "x2          1.019e-10   5.17e-11      1.971      0.096   -2.46e-11    2.28e-10\n",
      "x3          8.731e-11   4.49e-11      1.943      0.100   -2.26e-11    1.97e-10\n",
      "==============================================================================\n",
      "Omnibus:                        4.375   Durbin-Watson:                   0.727\n",
      "Prob(Omnibus):                  0.112   Jarque-Bera (JB):                2.031\n",
      "Skew:                           1.104   Prob(JB):                        0.362\n",
      "Kurtosis:                       3.019   Cond. No.                         2.54\n",
      "==============================================================================\n",
      "\n",
      "Notes:\n",
      "[1] Standard Errors assume that the covariance matrix of the errors is correctly specified.\n"
     ]
    },
    {
     "name": "stderr",
     "output_type": "stream",
     "text": [
      "d:\\Python\\Lib\\site-packages\\scipy\\stats\\_stats_py.py:1971: UserWarning: kurtosistest only valid for n>=20 ... continuing anyway, n=10\n",
      "  k, _ = kurtosistest(a, axis)\n"
     ]
    }
   ],
   "source": [
    "# modelo OLS regression\n",
    "model = sm.OLS(y, X_scaled).fit()\n",
    "\n",
    "# exibindo os resultados\n",
    "print(model.summary())"
   ]
  },
  {
   "cell_type": "code",
   "execution_count": 25,
   "metadata": {},
   "outputs": [
    {
     "data": {
      "text/plain": [
       "Quartos\n",
       "3    346666.666667\n",
       "4    400000.000000\n",
       "5    420000.000000\n",
       "Name: Preco, dtype: float64"
      ]
     },
     "execution_count": 25,
     "metadata": {},
     "output_type": "execute_result"
    }
   ],
   "source": [
    "# preco medio em relação ao numero de quartos \n",
    "y.groupby(df.Quartos).mean()"
   ]
  },
  {
   "cell_type": "code",
   "execution_count": 48,
   "metadata": {},
   "outputs": [
    {
     "name": "stdout",
     "output_type": "stream",
     "text": [
      "VALOR:  650000.00 R$\n"
     ]
    },
    {
     "name": "stderr",
     "output_type": "stream",
     "text": [
      "d:\\Python\\Lib\\site-packages\\sklearn\\base.py:493: UserWarning: X does not have valid feature names, but StandardScaler was fitted with feature names\n",
      "  warnings.warn(\n"
     ]
    }
   ],
   "source": [
    "# criando nova casa  \n",
    "casa = scaler.transform([[3250, 8, 2]]) # area: 3.250, quartos: 8, idade: 2\n",
    "casa = np.insert(casa[0], 0, 1) # adicionando coluna constante novamente \n",
    "\n",
    "# valor de venda previsto \n",
    "predicted = model.predict(casa)\n",
    "print(f'VALOR: {predicted[0]: .2f} R$') # ajustando a saida para uma melhor visulaização "
   ]
  }
 ],
 "metadata": {
  "kernelspec": {
   "display_name": "Python 3",
   "language": "python",
   "name": "python3"
  },
  "language_info": {
   "codemirror_mode": {
    "name": "ipython",
    "version": 3
   },
   "file_extension": ".py",
   "mimetype": "text/x-python",
   "name": "python",
   "nbconvert_exporter": "python",
   "pygments_lexer": "ipython3",
   "version": "3.12.1"
  }
 },
 "nbformat": 4,
 "nbformat_minor": 2
}
