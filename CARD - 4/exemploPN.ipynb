{
 "cells": [
  {
   "cell_type": "markdown",
   "metadata": {},
   "source": [
    "# Comparação de carros japoneses e alemães"
   ]
  },
  {
   "cell_type": "code",
   "execution_count": 29,
   "metadata": {},
   "outputs": [],
   "source": [
    "import pandas as pd \n",
    "import numpy as np "
   ]
  },
  {
   "cell_type": "code",
   "execution_count": 31,
   "metadata": {},
   "outputs": [],
   "source": [
    "#defenindo os dados das empresas \n",
    "CarrosAlemaes = {\n",
    "    'Modelos': ['Porsche GT3 RS', 'Mercedes GLE', 'BMW M4', 'Audi RS6'],\n",
    "    'Preço':[2000000, 1080000, 1000000, 900000],\n",
    "    'Avaliacoes': [10,9,8.5,9.3],\n",
    "    'Velocidade_max': [330, 280, 290, 300]    \n",
    "}\n",
    "\n",
    "#defenindo os dados das empresas \n",
    "CarrosJaponeses = {\n",
    "    'Modelos': ['Toyota Supra', 'Honda Type R', 'Nissan GTR', 'Mazda RX7'],\n",
    "    'Preço':[1000000, 500000, 1000000, 550000],\n",
    "    'Avaliacoes': [8,7,7,6],\n",
    "    'Velocidade_max': [270, 220, 280, 250]    \n",
    "}"
   ]
  },
  {
   "cell_type": "markdown",
   "metadata": {},
   "source": [
    "Criando data Frames"
   ]
  },
  {
   "cell_type": "code",
   "execution_count": 32,
   "metadata": {},
   "outputs": [
    {
     "data": {
      "text/html": [
       "<div>\n",
       "<style scoped>\n",
       "    .dataframe tbody tr th:only-of-type {\n",
       "        vertical-align: middle;\n",
       "    }\n",
       "\n",
       "    .dataframe tbody tr th {\n",
       "        vertical-align: top;\n",
       "    }\n",
       "\n",
       "    .dataframe thead th {\n",
       "        text-align: right;\n",
       "    }\n",
       "</style>\n",
       "<table border=\"1\" class=\"dataframe\">\n",
       "  <thead>\n",
       "    <tr style=\"text-align: right;\">\n",
       "      <th></th>\n",
       "      <th>Modelos</th>\n",
       "      <th>Preço</th>\n",
       "      <th>Avaliacoes</th>\n",
       "      <th>Velocidade_max</th>\n",
       "    </tr>\n",
       "  </thead>\n",
       "  <tbody>\n",
       "    <tr>\n",
       "      <th>0</th>\n",
       "      <td>Porsche GT3 RS</td>\n",
       "      <td>2000000</td>\n",
       "      <td>10.0</td>\n",
       "      <td>330</td>\n",
       "    </tr>\n",
       "    <tr>\n",
       "      <th>1</th>\n",
       "      <td>Mercedes GLE</td>\n",
       "      <td>1080000</td>\n",
       "      <td>9.0</td>\n",
       "      <td>280</td>\n",
       "    </tr>\n",
       "    <tr>\n",
       "      <th>2</th>\n",
       "      <td>BMW M4</td>\n",
       "      <td>1000000</td>\n",
       "      <td>8.5</td>\n",
       "      <td>290</td>\n",
       "    </tr>\n",
       "    <tr>\n",
       "      <th>3</th>\n",
       "      <td>Audi RS6</td>\n",
       "      <td>900000</td>\n",
       "      <td>9.3</td>\n",
       "      <td>300</td>\n",
       "    </tr>\n",
       "  </tbody>\n",
       "</table>\n",
       "</div>"
      ],
      "text/plain": [
       "          Modelos    Preço  Avaliacoes  Velocidade_max\n",
       "0  Porsche GT3 RS  2000000        10.0             330\n",
       "1    Mercedes GLE  1080000         9.0             280\n",
       "2          BMW M4  1000000         8.5             290\n",
       "3        Audi RS6   900000         9.3             300"
      ]
     },
     "execution_count": 32,
     "metadata": {},
     "output_type": "execute_result"
    }
   ],
   "source": [
    "df_alemaes = pd.DataFrame(CarrosAlemaes)\n",
    "df_alemaes"
   ]
  },
  {
   "cell_type": "code",
   "execution_count": 33,
   "metadata": {},
   "outputs": [
    {
     "data": {
      "text/html": [
       "<div>\n",
       "<style scoped>\n",
       "    .dataframe tbody tr th:only-of-type {\n",
       "        vertical-align: middle;\n",
       "    }\n",
       "\n",
       "    .dataframe tbody tr th {\n",
       "        vertical-align: top;\n",
       "    }\n",
       "\n",
       "    .dataframe thead th {\n",
       "        text-align: right;\n",
       "    }\n",
       "</style>\n",
       "<table border=\"1\" class=\"dataframe\">\n",
       "  <thead>\n",
       "    <tr style=\"text-align: right;\">\n",
       "      <th></th>\n",
       "      <th>Modelos</th>\n",
       "      <th>Preço</th>\n",
       "      <th>Avaliacoes</th>\n",
       "      <th>Velocidade_max</th>\n",
       "    </tr>\n",
       "  </thead>\n",
       "  <tbody>\n",
       "    <tr>\n",
       "      <th>0</th>\n",
       "      <td>Toyota Supra</td>\n",
       "      <td>1000000</td>\n",
       "      <td>8</td>\n",
       "      <td>270</td>\n",
       "    </tr>\n",
       "    <tr>\n",
       "      <th>1</th>\n",
       "      <td>Honda Type R</td>\n",
       "      <td>500000</td>\n",
       "      <td>7</td>\n",
       "      <td>220</td>\n",
       "    </tr>\n",
       "    <tr>\n",
       "      <th>2</th>\n",
       "      <td>Nissan GTR</td>\n",
       "      <td>1000000</td>\n",
       "      <td>7</td>\n",
       "      <td>280</td>\n",
       "    </tr>\n",
       "    <tr>\n",
       "      <th>3</th>\n",
       "      <td>Mazda RX7</td>\n",
       "      <td>550000</td>\n",
       "      <td>6</td>\n",
       "      <td>250</td>\n",
       "    </tr>\n",
       "  </tbody>\n",
       "</table>\n",
       "</div>"
      ],
      "text/plain": [
       "        Modelos    Preço  Avaliacoes  Velocidade_max\n",
       "0  Toyota Supra  1000000           8             270\n",
       "1  Honda Type R   500000           7             220\n",
       "2    Nissan GTR  1000000           7             280\n",
       "3     Mazda RX7   550000           6             250"
      ]
     },
     "execution_count": 33,
     "metadata": {},
     "output_type": "execute_result"
    }
   ],
   "source": [
    "df_japoneses = pd.DataFrame(CarrosJaponeses)\n",
    "df_japoneses"
   ]
  },
  {
   "cell_type": "code",
   "execution_count": 34,
   "metadata": {},
   "outputs": [
    {
     "name": "stdout",
     "output_type": "stream",
     "text": [
      "Média de preços para carros alemães: R$1245000.00\n",
      "Média de preços para carros japoneses: R$762500.00\n",
      "\n",
      "Os carros mais baratos dos apresentados são os Japoneses com media R$ 762500.00\n",
      "Enquanto os modelos Alemães apresentados tem valores mais \n",
      "altos e são mais luxuosos (preço medio: R$ 1245000.00)\n"
     ]
    }
   ],
   "source": [
    "#calculando a media de preços usando Numpy\n",
    "media_PrecoA = np.mean(df_alemaes['Preço'])\n",
    "media_precoJ = np.mean(df_japoneses['Preço'])\n",
    "\n",
    "print(f\"Média de preços para carros alemães: R${media_PrecoA:.2f}\")\n",
    "print(f\"Média de preços para carros japoneses: R${media_precoJ:.2f}\")\n",
    "#pegando a menor media de preço\n",
    "min_preco = np.min([media_PrecoA,media_precoJ])\n",
    "\n",
    "if(min_preco == media_precoJ):\n",
    "    print(f\"\\nOs carros mais baratos dos apresentados são os Japoneses com media R${media_precoJ: .2f}\\nEnquanto os modelos Alemães apresentados tem valores mais \\naltos e são mais luxuosos (preço medio: R${media_PrecoA: .2f})\")\n",
    "elif(min_preco == media_PrecoA):\n",
    "    print(f\"\\nOs carros mais baratos são os Alemaes com media R${media_PrecoA: .2f}\\nEnquanto os modelos Japoneses apresentados tem valores mais \\naltos e são mais luxuosos (preço medio: R${media_precoJ: .2f})\")\n",
    "elif(media_PrecoA == media_precoJ):\n",
    "    print(f\"\\nAmbas categorias possuem mesma media de preco: R${media_precoJ: .2f}\")"
   ]
  },
  {
   "cell_type": "code",
   "execution_count": 35,
   "metadata": {},
   "outputs": [
    {
     "name": "stdout",
     "output_type": "stream",
     "text": [
      "A media de avaliações dos japoneses:  7.00\n",
      "A media de avaliações dos Alemaes:  9.20\n",
      "\n",
      "\n",
      "A media de velocidade maxima dos japoneses:  255.00\n",
      "A media de velocidade maxima dos Alemaes:  300.00\n"
     ]
    }
   ],
   "source": [
    "# calculando outras estatisticas (media de avaliçoes de alemaes e japoneses)\n",
    "media_AvA = np.mean(df_alemaes['Avaliacoes'])\n",
    "media_AVJ = np.mean(df_japoneses['Avaliacoes'])\n",
    "#calculando media de velocidades\n",
    "media_veloA = np.mean(df_alemaes['Velocidade_max'])\n",
    "media_veloJ = np.mean(df_japoneses['Velocidade_max'])\n",
    "\n",
    "print(f\"A media de avaliações dos japoneses: {media_AVJ: .2f}\\nA media de avaliações dos Alemaes: {media_AvA: .2f}\")\n",
    "print(f\"\\n\\nA media de velocidade maxima dos japoneses: {media_veloJ: .2f}\\nA media de velocidade maxima dos Alemaes: {media_veloA: .2f}\")"
   ]
  },
  {
   "cell_type": "markdown",
   "metadata": {},
   "source": [
    "### Encontrando o mais bem avaliado de cada categoria e dentre as duas"
   ]
  },
  {
   "cell_type": "code",
   "execution_count": 36,
   "metadata": {},
   "outputs": [
    {
     "name": "stdout",
     "output_type": "stream",
     "text": [
      "Carro mais bem avaliado entre os alemães: Porsche GT3 RS\n",
      "Carro mais bem avaliado entre os japoneses: Toyota Supra\n",
      "Carro mais bem avaliado entre alemaes e japoneses: Porsche GT3 RS\n"
     ]
    }
   ],
   "source": [
    "# Encontrando o carro mais bem avaliado de cada categoria\n",
    "carro_mais_bem_avaliado_alemaes = df_alemaes.loc[df_alemaes['Avaliacoes'].idxmax(), 'Modelos']\n",
    "carro_mais_bem_avaliado_japoneses = df_japoneses.loc[df_japoneses['Avaliacoes'].idxmax(), 'Modelos']\n",
    "\n",
    "# Exibindo os resultados\n",
    "print(f\"Carro mais bem avaliado entre os alemães: {carro_mais_bem_avaliado_alemaes}\")\n",
    "print(f\"Carro mais bem avaliado entre os japoneses: {carro_mais_bem_avaliado_japoneses}\")\n",
    "\n",
    "# Concatenando os DataFrames de alemães e japoneses\n",
    "df_total = pd.concat([df_alemaes, df_japoneses], ignore_index=True)\n",
    "# Encontrando o carro mais bem avaliado dentre todos\n",
    "carro_mais_bem_avaliado = df_total.loc[df_total['Avaliacoes'].idxmax(), 'Modelos']\n",
    "# Exibindo os resultados\n",
    "print(f\"Carro mais bem avaliado entre alemaes e japoneses: {carro_mais_bem_avaliado}\")"
   ]
  },
  {
   "cell_type": "markdown",
   "metadata": {},
   "source": [
    "### Encontrando o mais veloz de cada categoria e dentre as duas"
   ]
  },
  {
   "cell_type": "code",
   "execution_count": 37,
   "metadata": {},
   "outputs": [
    {
     "name": "stdout",
     "output_type": "stream",
     "text": [
      "Carro mais veloz entre os alemães: Porsche GT3 RS\n",
      "Carro mais veloz entre os japoneses: Nissan GTR\n",
      "Carro mais veloz entre os alemaes e japoneses: Porsche GT3 RS\n"
     ]
    }
   ],
   "source": [
    "# Encontrando o carro mais veloz de cada categoria \n",
    "carro_mais_veloz_alemaes = df_alemaes.loc[df_alemaes['Velocidade_max'].idxmax(), 'Modelos']\n",
    "carro_mais_veloz_japoneses = df_japoneses.loc[df_japoneses['Velocidade_max'].idxmax(), 'Modelos']\n",
    "# Exibindo os resultados\n",
    "print(f\"Carro mais veloz entre os alemães: {carro_mais_veloz_alemaes}\")\n",
    "print(f\"Carro mais veloz entre os japoneses: {carro_mais_veloz_japoneses}\")\n",
    "\n",
    "\n",
    "# Encontrando o carro mais veloz (usando o concat anterior)\n",
    "carro_mais_veloz = df_total.loc[df_total['Velocidade_max'].idxmax(), 'Modelos']\n",
    "\n",
    "# Exibindo os resultados\n",
    "print(f\"Carro mais veloz entre os alemaes e japoneses: {carro_mais_veloz}\")\n"
   ]
  }
 ],
 "metadata": {
  "kernelspec": {
   "display_name": "Python 3",
   "language": "python",
   "name": "python3"
  },
  "language_info": {
   "codemirror_mode": {
    "name": "ipython",
    "version": 3
   },
   "file_extension": ".py",
   "mimetype": "text/x-python",
   "name": "python",
   "nbconvert_exporter": "python",
   "pygments_lexer": "ipython3",
   "version": "3.12.1"
  }
 },
 "nbformat": 4,
 "nbformat_minor": 2
}
